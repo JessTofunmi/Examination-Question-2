{
 "cells": [
  {
   "cell_type": "code",
   "execution_count": 14,
   "id": "79bf6040",
   "metadata": {},
   "outputs": [
    {
     "name": "stdout",
     "output_type": "stream",
     "text": [
      "Average speed for the travel is 46.875 km/Hr \n"
     ]
    }
   ],
   "source": [
    "# Question A\n",
    "def avgspd():\n",
    "    Total_distance_travelled_in_KM = 150\n",
    "    Total_time_spent_in_hours = 3.2\n",
    "    average_speed = Total_distance_travelled_in_KM /  Total_time_spent_in_hours\n",
    "    return average_speed\n",
    "x=avgspd()\n",
    "print('Average speed for the travel is', x ,'km/Hr ')"
   ]
  },
  {
   "cell_type": "code",
   "execution_count": 15,
   "id": "9027f1e8",
   "metadata": {},
   "outputs": [
    {
     "name": "stdout",
     "output_type": "stream",
     "text": [
      "Average petrol consumed for the travel is 9.375 Ltr/Hr\n"
     ]
    }
   ],
   "source": [
    "# Question B\n",
    "def avgful():\n",
    "    Total_petrol_for_travel = 30\n",
    "    Total_time_spent_in_hours = 3.2\n",
    "    Average_petrol = Total_petrol_for_travel / Total_time_spent_in_hours\n",
    "    return Average_petrol\n",
    "y=avgful()\n",
    "print('Average petrol consumed for the travel is', y, 'Ltr/Hr')"
   ]
  },
  {
   "cell_type": "code",
   "execution_count": 23,
   "id": "3bc739fb",
   "metadata": {},
   "outputs": [],
   "source": [
    "# Question C\n",
    "def noOfPoint():\n",
    "    x=input('number of points for each stops : ')\n",
    "    return x\n",
    "\n",
    "def one_stop_fuel():\n",
    "    average_speed=avgspd()\n",
    "    no_of_points=noOfPoint()\n",
    "    average_petrol = avgful()\n",
    "    total_Km_travelled= 150\n",
    "    Total_petrol_for_travel = 30\n",
    "    Total_points_from_20_stops = 27\n",
    "    Total_time_of_travel_in_hours = 3.2\n",
    "    Total_time_of_travel_in_minutes= 192\n",
    "    \n",
    "    Time_for_1_point = Total_time_of_travel_in_hours / Total_points_from_20_stops\n",
    "#     distance travelled to reach one points\n",
    "    distance_for_1_point = total_Km_travelled / Total_points_from_20_stops\n",
    "#     Distance travelled to reach any points\n",
    "    distance_for_any_point= distance_for_1_point * int(no_of_points) \n",
    "#     Amount of petrol used for one point\n",
    "    petrol_for_1_point = average_petrol * Time_for_1_point\n",
    "#     Amount of petrol used for any stop\n",
    "    petrol_used_for_any_stop = petrol_for_1_point * int(no_of_points)\n",
    "#     Time taken to raech any stop in hours\n",
    "    Time_used_for_any_stop = distance_for_any_point / average_speed\n",
    "\n",
    "    \n",
    "    print('time spent for 1 point is', Time_for_1_point, 'Hour(s)' )\n",
    "    \n",
    "    print('Distance travelled for 1 point',distance_for_1_point, 'Km' )\n",
    "    \n",
    "    print('Distance travelled for', no_of_points, 'points is', distance_for_any_point, 'Km')\n",
    "    \n",
    "    print('Petrol used to 1 points is', petrol_for_1_point, 'Ltr')\n",
    "    \n",
    "    print('Petrol used to get the stops with',no_of_points,'points is', petrol_used_for_any_stop,'Ltr(s)')\n",
    "    \n",
    "    print('Time used to get the stops with',no_of_points,'points is', Time_used_for_any_stop ,\n",
    "          'hour(s)' )"
   ]
  },
  {
   "cell_type": "code",
   "execution_count": 24,
   "id": "14277270",
   "metadata": {},
   "outputs": [
    {
     "name": "stdout",
     "output_type": "stream",
     "text": [
      "number of points for each stops : 11\n",
      "time spent for 1 point is 0.11851851851851852 Hour(s)\n",
      "Distance travelled for 1 point 5.555555555555555 Km\n",
      "Distance travelled for 11 points is 61.11111111111111 Km\n",
      "Petrol used to 1 points is 1.1111111111111112 Ltr\n",
      "Petrol used to get the stops with 11 points is 12.222222222222223 Ltr(s)\n",
      "Time used to get the stops with 11 points is 1.3037037037037036 hour(s)\n"
     ]
    }
   ],
   "source": [
    "one_stop_fuel()"
   ]
  },
  {
   "cell_type": "code",
   "execution_count": null,
   "id": "4c29ca9b",
   "metadata": {},
   "outputs": [],
   "source": [
    "# RECOMMENDATIOS TO TECHNICAL TEAM:\n",
    "#     1.Optimize delivery routes\n",
    "#     2.Reevaluate delivery strategies\n",
    "#     3.Delivery for the same stops or nearby stops shoud be done together"
   ]
  },
  {
   "cell_type": "code",
   "execution_count": null,
   "id": "fc9f80ff",
   "metadata": {},
   "outputs": [],
   "source": []
  }
 ],
 "metadata": {
  "kernelspec": {
   "display_name": "Python 3 (ipykernel)",
   "language": "python",
   "name": "python3"
  },
  "language_info": {
   "codemirror_mode": {
    "name": "ipython",
    "version": 3
   },
   "file_extension": ".py",
   "mimetype": "text/x-python",
   "name": "python",
   "nbconvert_exporter": "python",
   "pygments_lexer": "ipython3",
   "version": "3.11.1"
  }
 },
 "nbformat": 4,
 "nbformat_minor": 5
}
